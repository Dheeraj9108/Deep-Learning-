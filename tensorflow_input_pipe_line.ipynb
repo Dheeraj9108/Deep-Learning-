{
 "cells": [
  {
   "cell_type": "code",
   "execution_count": 1,
   "id": "84a1e134",
   "metadata": {},
   "outputs": [],
   "source": [
    "import tensorflow as tf"
   ]
  },
  {
   "cell_type": "code",
   "execution_count": 2,
   "id": "963fa572",
   "metadata": {},
   "outputs": [],
   "source": [
    "daily_sales_number = [21,22,-100,31,-1,32,34,31]"
   ]
  },
  {
   "cell_type": "code",
   "execution_count": 3,
   "id": "04f62242",
   "metadata": {},
   "outputs": [],
   "source": [
    "tf_dataset = tf.data.Dataset.from_tensor_slices(daily_sales_number)"
   ]
  },
  {
   "cell_type": "code",
   "execution_count": 5,
   "id": "e05ab8b1",
   "metadata": {},
   "outputs": [
    {
     "name": "stdout",
     "output_type": "stream",
     "text": [
      "21\n",
      "22\n",
      "-100\n",
      "31\n",
      "-1\n",
      "32\n",
      "34\n",
      "31\n"
     ]
    }
   ],
   "source": [
    "for sale in tf_dataset:\n",
    "    print(sale.numpy())"
   ]
  },
  {
   "cell_type": "code",
   "execution_count": 6,
   "id": "9036d869",
   "metadata": {},
   "outputs": [
    {
     "name": "stdout",
     "output_type": "stream",
     "text": [
      "21\n",
      "22\n",
      "-100\n"
     ]
    }
   ],
   "source": [
    "for sale in tf_dataset.take(3):\n",
    "    print(sale.numpy())"
   ]
  },
  {
   "cell_type": "code",
   "execution_count": 7,
   "id": "31e7c7bb",
   "metadata": {},
   "outputs": [],
   "source": [
    "tf_dataset = tf_dataset.filter(lambda x:x>0)"
   ]
  },
  {
   "cell_type": "code",
   "execution_count": 8,
   "id": "d80de352",
   "metadata": {},
   "outputs": [
    {
     "name": "stdout",
     "output_type": "stream",
     "text": [
      "21\n",
      "22\n",
      "31\n",
      "32\n",
      "34\n",
      "31\n"
     ]
    }
   ],
   "source": [
    "for sale in tf_dataset:\n",
    "    print(sale.numpy())"
   ]
  },
  {
   "cell_type": "code",
   "execution_count": 10,
   "id": "4c24a3d1",
   "metadata": {},
   "outputs": [
    {
     "name": "stdout",
     "output_type": "stream",
     "text": [
      "1512\n",
      "1584\n",
      "2232\n",
      "2304\n",
      "2448\n",
      "2232\n"
     ]
    }
   ],
   "source": [
    "tf_dataset = tf_dataset.map(lambda x:x*72)\n",
    "for sale in tf_dataset:\n",
    "    print(sale.numpy())"
   ]
  },
  {
   "cell_type": "code",
   "execution_count": 11,
   "id": "a7b11135",
   "metadata": {},
   "outputs": [
    {
     "name": "stdout",
     "output_type": "stream",
     "text": [
      "1584\n",
      "2232\n",
      "2448\n",
      "2232\n",
      "1512\n",
      "2304\n"
     ]
    }
   ],
   "source": [
    "tf_dataset = tf_dataset.shuffle(3)\n",
    "for sale in tf_dataset:\n",
    "    print(sale.numpy())"
   ]
  },
  {
   "cell_type": "code",
   "execution_count": 12,
   "id": "b7e7310f",
   "metadata": {},
   "outputs": [
    {
     "name": "stdout",
     "output_type": "stream",
     "text": [
      "[1512 1584]\n",
      "[2304 2448]\n",
      "[2232 2232]\n"
     ]
    }
   ],
   "source": [
    "for sale in tf_dataset.batch(2):\n",
    "    print(sale.numpy())"
   ]
  },
  {
   "cell_type": "code",
   "execution_count": 18,
   "id": "7800368c",
   "metadata": {},
   "outputs": [
    {
     "name": "stdout",
     "output_type": "stream",
     "text": [
      "[1584 2232]\n",
      "[2304 1512]\n",
      "[2448 2232]\n"
     ]
    }
   ],
   "source": [
    "# all of the can be done in one step\n",
    "tf_dataset = tf.data.Dataset.from_tensor_slices(daily_sales_number)\n",
    "tf_dataset = tf_dataset.filter(lambda x:x>0).map(lambda y:y*72).shuffle(2).batch(2)\n",
    "for sale in tf_dataset:\n",
    "    print(sale.numpy())"
   ]
  },
  {
   "cell_type": "code",
   "execution_count": null,
   "id": "962290e8",
   "metadata": {},
   "outputs": [],
   "source": [
    "# list the files\n",
    "\n",
    "images_ds = tf.data.Dataset.list_files('images/*/*',shuffel=False)\n",
    "\n",
    "for file in images_ds.take(5):\n",
    "    print(file.numpy())\n"
   ]
  },
  {
   "cell_type": "code",
   "execution_count": null,
   "id": "56b3a797",
   "metadata": {},
   "outputs": [],
   "source": [
    "# function to split the dataset in tensorflow \n",
    "\n",
    "train_size  =  int(img_count*108)\n",
    "\n",
    "train_ds = images.take(train_size)\n",
    "test_ds = images_ds.skip(train_size)"
   ]
  },
  {
   "cell_type": "code",
   "execution_count": 20,
   "id": "45f2b526",
   "metadata": {},
   "outputs": [],
   "source": [
    "# function to get label form the file path \n",
    "\n",
    "def get_label(file_path):\n",
    "    import os\n",
    "    return tf.strings.split(file_path,os.path.sep)[-2]"
   ]
  },
  {
   "cell_type": "code",
   "execution_count": null,
   "id": "9dbc003b",
   "metadata": {},
   "outputs": [],
   "source": [
    "def process_image(file_path):\n",
    "    label = get_label(file_path)\n",
    "    img = tf.io.read_file(file_path)\n",
    "    img = tf.image.decode_jpeg(img)\n",
    "    img = tf.image.resize(img,[128,128])\n",
    "    \n",
    "    return img,label"
   ]
  },
  {
   "cell_type": "code",
   "execution_count": null,
   "id": "144cd757",
   "metadata": {},
   "outputs": [],
   "source": [
    "train_ds = train_ds.map(process_image)\n",
    "for img,label in train_ds.take(3):\n",
    "    print(\"Image :\",img)\n",
    "    print(\"label :\",label)"
   ]
  },
  {
   "cell_type": "code",
   "execution_count": null,
   "id": "5144db81",
   "metadata": {},
   "outputs": [],
   "source": [
    "# scaling function\n",
    "\n",
    "def scale(image,label):\n",
    "    return image/255, label"
   ]
  },
  {
   "cell_type": "code",
   "execution_count": null,
   "id": "bbd42f76",
   "metadata": {},
   "outputs": [],
   "source": [
    "train_ds = train.ds.map(scale)\n",
    "for image. label in train_ds.take(5):\n",
    "    print(\"Image : \",image.numpy()[0][0])\n",
    "    print(\"Label : \",label.numpy())"
   ]
  },
  {
   "cell_type": "code",
   "execution_count": null,
   "id": "f3af549d",
   "metadata": {},
   "outputs": [],
   "source": []
  }
 ],
 "metadata": {
  "kernelspec": {
   "display_name": "Python 3 (ipykernel)",
   "language": "python",
   "name": "python3"
  },
  "language_info": {
   "codemirror_mode": {
    "name": "ipython",
    "version": 3
   },
   "file_extension": ".py",
   "mimetype": "text/x-python",
   "name": "python",
   "nbconvert_exporter": "python",
   "pygments_lexer": "ipython3",
   "version": "3.9.12"
  }
 },
 "nbformat": 4,
 "nbformat_minor": 5
}
