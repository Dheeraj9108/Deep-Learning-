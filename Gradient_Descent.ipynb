{
 "cells": [
  {
   "cell_type": "code",
   "execution_count": 2,
   "id": "429ab498",
   "metadata": {},
   "outputs": [
    {
     "data": {
      "text/plain": [
       "0.9999546021312976"
      ]
     },
     "execution_count": 2,
     "metadata": {},
     "output_type": "execute_result"
    }
   ],
   "source": [
    "def sigmoid(x):\n",
    "    import math\n",
    "    return 1/(1+math.exp(-x))\n",
    "sigmoid(10)"
   ]
  },
  {
   "cell_type": "code",
   "execution_count": 9,
   "id": "02ed563f",
   "metadata": {},
   "outputs": [],
   "source": [
    "def prediction_function(age,affordability):\n",
    "    weighted_sum = 5.060867*age + 1.4086502*affordability+(-2.9147027)\n",
    "    return sigmoid(weighted_sum)"
   ]
  },
  {
   "cell_type": "code",
   "execution_count": 10,
   "id": "c4fe2386",
   "metadata": {},
   "outputs": [
    {
     "data": {
      "text/plain": [
       "0.7052770600142668"
      ]
     },
     "execution_count": 10,
     "metadata": {},
     "output_type": "execute_result"
    }
   ],
   "source": [
    "prediction_function(0.47,1)"
   ]
  },
  {
   "cell_type": "code",
   "execution_count": 13,
   "id": "7a799900",
   "metadata": {},
   "outputs": [],
   "source": [
    "#Gradient_Descent function\n",
    "def log_loss(y_true,y_predicted):\n",
    "    epsilon = 1e-15\n",
    "    y_predicted_new = [max(i,epsilon) for i in y_predicted]\n",
    "    y_predicted_new = [min(i,1-epsilon) for i in y_prdicted_new]\n",
    "    y_predicted_new = np.array(y_predicted_new)\n",
    "    return -np.mean(y_true*np.log(y_predicted_new)+(1-y_true)*np.log(1-y_predicted_new))"
   ]
  },
  {
   "cell_type": "code",
   "execution_count": 16,
   "id": "f4ab2005",
   "metadata": {},
   "outputs": [
    {
     "data": {
      "text/plain": [
       "array([0.99999386, 0.5       , 0.73105858])"
      ]
     },
     "execution_count": 16,
     "metadata": {},
     "output_type": "execute_result"
    }
   ],
   "source": [
    "import numpy as np\n",
    "def sigmoid_numpy(x):\n",
    "    return 1/(1+np.exp(-x))\n",
    "sigmoid_numpy(np.array([12,0,1]))"
   ]
  },
  {
   "cell_type": "code",
   "execution_count": 22,
   "id": "b8aaf7cb",
   "metadata": {},
   "outputs": [],
   "source": [
    "def gradient_descent(age,affordability,y_true,epochs,loss_threshold):\n",
    "    w1 =w2 =1\n",
    "    bias =0\n",
    "    rate = 0.5\n",
    "    n = len(age)\n",
    "    \n",
    "    for i in range(epochs):\n",
    "        weighted_sum = w1 * age + w2 * affordability + bias\n",
    "        y_predicted = sigmoid_numpy(weight_sum)\n",
    "        \n",
    "        loss = log_loss(y_true,y_predicted)\n",
    "        \n",
    "        w1d = (1/n)*np.dot(ap.transepose(age),(y_predicted-ytrue))\n",
    "        w2d = (1/n)*np.dot(ap.transepose(affordability),(y_predicted-ytrue))\n",
    "        bd = np.mean(y_predicted-y_true)\n",
    "        \n",
    "        w1 = w1 - rate * w1d\n",
    "        w2 = w2 - rate * w2d\n",
    "        bias = bias - rate * bd\n",
    "        \n",
    "        printf(f'epoch:{i},w1:{w1}, w2:{w2}, bias:{bias}, loss{loss}')\n",
    "        if(loss<=loss_threshold):\n",
    "            break\n",
    "        \n",
    "    return w1,w2,bias"
   ]
  },
  {
   "cell_type": "code",
   "execution_count": null,
   "id": "b46641d9",
   "metadata": {},
   "outputs": [],
   "source": [
    "gradient_descent(age,affordability,y_train,1000,0.4631)"
   ]
  }
 ],
 "metadata": {
  "kernelspec": {
   "display_name": "Python 3 (ipykernel)",
   "language": "python",
   "name": "python3"
  },
  "language_info": {
   "codemirror_mode": {
    "name": "ipython",
    "version": 3
   },
   "file_extension": ".py",
   "mimetype": "text/x-python",
   "name": "python",
   "nbconvert_exporter": "python",
   "pygments_lexer": "ipython3",
   "version": "3.9.12"
  }
 },
 "nbformat": 4,
 "nbformat_minor": 5
}
