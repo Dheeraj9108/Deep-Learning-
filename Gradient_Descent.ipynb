{
 "cells": [
  {
   "cell_type": "code",
   "execution_count": 2,
   "id": "960277e6",
   "metadata": {},
   "outputs": [
    {
     "data": {
      "text/plain": [
       "0.9999546021312976"
      ]
     },
     "execution_count": 2,
     "metadata": {},
     "output_type": "execute_result"
    }
   ],
   "source": [
    "def sigmoid(x):\n",
    "    import math\n",
    "    return 1/(1+math.exp(-x))\n",
    "sigmoid(10)"
   ]
  },
  {
   "cell_type": "code",
   "execution_count": 9,
   "id": "f01c3b87",
   "metadata": {},
   "outputs": [],
   "source": [
    "def prediction_function(age,affordability):\n",
    "    weighted_sum = 5.060867*age + 1.4086502*affordability+(-2.9147027)\n",
    "    return sigmoid(weighted_sum)"
   ]
  },
  {
   "cell_type": "code",
   "execution_count": 10,
   "id": "2ec1a1bd",
   "metadata": {},
   "outputs": [
    {
     "data": {
      "text/plain": [
       "0.7052770600142668"
      ]
     },
     "execution_count": 10,
     "metadata": {},
     "output_type": "execute_result"
    }
   ],
   "source": [
    "prediction_function(0.47,1)"
   ]
  },
  {
   "cell_type": "code",
   "execution_count": 13,
   "id": "d38a4453",
   "metadata": {},
   "outputs": [],
   "source": [
    "#Gradient_Descent function\n",
    "def log_loss(y_true,y_predicted):\n",
    "    epsilon = 1e-15\n",
    "    y_predicted_new = [max(i,epsilon) for i in y_predicted]\n",
    "    y_predicted_new = [min(i,1-epsilon) for i in y_prdicted_new]\n",
    "    y_predicted_new = np.array(y_predicted_new)\n",
    "    return -np.mean(y_true*np.log(y_predicted_new)+(1-y_true)*np.log(1-y_predicted_new))"
   ]
  },
  {
   "cell_type": "code",
   "execution_count": 16,
   "id": "b41ea503",
   "metadata": {},
   "outputs": [
    {
     "data": {
      "text/plain": [
       "array([0.99999386, 0.5       , 0.73105858])"
      ]
     },
     "execution_count": 16,
     "metadata": {},
     "output_type": "execute_result"
    }
   ],
   "source": [
    "import numpy as np\n",
    "def sigmoid_numpy(x):\n",
    "    return 1/(1+np.exp(-x))\n",
    "sigmoid_numpy(np.array([12,0,1]))"
   ]
  },
  {
   "cell_type": "code",
   "execution_count": 40,
   "id": "3e35a2af",
   "metadata": {},
   "outputs": [],
   "source": [
    "# Custom neural Network for Insuranse data set\n",
    "\n",
    "class myNN:\n",
    "    def __init__(self):\n",
    "        self.w1 = 1\n",
    "        self.w2 = 1\n",
    "        self.bias = 0\n",
    "    \n",
    "    def fit(self,x,y,epochs,loss_thresold):\n",
    "        self.w1 , self.w2, self.bias = self.gradient_descent(x['age'],x['affordability'],y,epochs,loss_thresold)\n",
    "        \n",
    "    def predict(self,x_test):\n",
    "        weighted_sum = self.w1 * x_test['age'] + self.w2 * x_test['affordability'] + self.bias\n",
    "        return sigmoid_numpy(weighted_sum)\n",
    "        \n",
    "    def gradient_descent(self,age,affordability,y_true,epochs,loss_threshold):\n",
    "        w1 =w2 =1\n",
    "        bias =0\n",
    "        rate = 0.5\n",
    "        n = len(age)\n",
    "\n",
    "        for i in range(epochs):\n",
    "            weighted_sum = w1 * age + w2 * affordability + bias\n",
    "            y_predicted = sigmoid_numpy(weight_sum)\n",
    "\n",
    "            loss = log_loss(y_true,y_predicted)\n",
    "\n",
    "            w1d = (1/n)*np.dot(ap.transepose(age),(y_predicted-ytrue))\n",
    "            w2d = (1/n)*np.dot(ap.transepose(affordability),(y_predicted-ytrue))\n",
    "            bd = np.mean(y_predicted-y_true)\n",
    "\n",
    "            w1 = w1 - rate * w1d\n",
    "            w2 = w2 - rate * w2d\n",
    "            bias = bias - rate * bd\n",
    "\n",
    "            if i%50 == 0:\n",
    "                printf(f'epoch:{i},w1:{w1}, w2:{w2}, bias:{bias}, loss{loss}')\n",
    "            \n",
    "            if(loss<=loss_threshold):\n",
    "                printf(f'epoch:{i},w1:{w1}, w2:{w2}, bias:{bias}, loss{loss}')\n",
    "                break\n",
    "\n",
    "        return w1,w2,bias"
   ]
  },
  {
   "cell_type": "code",
   "execution_count": 38,
   "id": "8469f35c",
   "metadata": {},
   "outputs": [],
   "source": [
    "# gradient_descent(age,affordability,y_train,1000,0.4631)\n",
    "\n",
    "customModel = myNN() \n",
    "customModel.fit(x_train_scaled,y_train,epochs = 5,loss_thresold = 0.4631)"
   ]
  },
  {
   "cell_type": "code",
   "execution_count": 39,
   "id": "89d57226",
   "metadata": {},
   "outputs": [],
   "source": [
    "customModel.predict(x_test_scaled)"
   ]
  },
  {
   "cell_type": "code",
   "execution_count": null,
   "id": "0e539591",
   "metadata": {},
   "outputs": [],
   "source": []
  }
 ],
 "metadata": {
  "kernelspec": {
   "display_name": "Python 3 (ipykernel)",
   "language": "python",
   "name": "python3"
  },
  "language_info": {
   "codemirror_mode": {
    "name": "ipython",
    "version": 3
   },
   "file_extension": ".py",
   "mimetype": "text/x-python",
   "name": "python",
   "nbconvert_exporter": "python",
   "pygments_lexer": "ipython3",
   "version": "3.9.12"
  }
 },
 "nbformat": 4,
 "nbformat_minor": 5
}
