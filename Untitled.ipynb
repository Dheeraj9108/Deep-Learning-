{
 "cells": [
  {
   "cell_type": "code",
   "execution_count": 2,
   "id": "8a4c7972",
   "metadata": {},
   "outputs": [],
   "source": [
    "import gensim\n",
    "import pandas as pd"
   ]
  },
  {
   "cell_type": "code",
   "execution_count": null,
   "id": "f00a0085",
   "metadata": {},
   "outputs": [],
   "source": [
    "df = pd.read_json(\"\",lines=True)\n",
    "df.head()"
   ]
  },
  {
   "cell_type": "code",
   "execution_count": 4,
   "id": "40930797",
   "metadata": {
    "scrolled": true
   },
   "outputs": [],
   "source": [
    "df.gensim.utils.simple_preprocess()"
   ]
  },
  {
   "cell_type": "code",
   "execution_count": null,
   "id": "769e2eec",
   "metadata": {},
   "outputs": [],
   "source": [
    "review_text = df.review_text.apply(gensim.utils.preprocess)\n",
    "review_text"
   ]
  },
  {
   "cell_type": "code",
   "execution_count": null,
   "id": "d4434733",
   "metadata": {},
   "outputs": [],
   "source": [
    "model = gensim.models.Word2Vec(\n",
    "    window = 10,\n",
    "    min_count = 2,\n",
    "    workers = 4,\n",
    ")"
   ]
  },
  {
   "cell_type": "code",
   "execution_count": null,
   "id": "8ae9f048",
   "metadata": {},
   "outputs": [],
   "source": [
    "model.build_vocab(review_text,progress_per=1000)"
   ]
  },
  {
   "cell_type": "code",
   "execution_count": null,
   "id": "39778535",
   "metadata": {},
   "outputs": [],
   "source": [
    "model.train(review_text,total_examples=model.corpus_count,epochs=model.epochs)"
   ]
  },
  {
   "cell_type": "code",
   "execution_count": null,
   "id": "e632a3e7",
   "metadata": {},
   "outputs": [],
   "source": [
    "model.save(\"./ggg-am-dhuj.model\")"
   ]
  },
  {
   "cell_type": "code",
   "execution_count": null,
   "id": "16cbbc91",
   "metadata": {},
   "outputs": [],
   "source": [
    "model.wv.most_similar(\"bad\")"
   ]
  },
  {
   "cell_type": "code",
   "execution_count": null,
   "id": "e633c7dc",
   "metadata": {},
   "outputs": [],
   "source": [
    "model.wv.similarity(w1='great',w2='product')"
   ]
  },
  {
   "cell_type": "code",
   "execution_count": 6,
   "id": "f14eb6df",
   "metadata": {},
   "outputs": [
    {
     "data": {
      "text/plain": [
       "[PhysicalDevice(name='/physical_device:CPU:0', device_type='CPU')]"
      ]
     },
     "execution_count": 6,
     "metadata": {},
     "output_type": "execute_result"
    }
   ],
   "source": [
    "import ten sorflow as tf\n",
    "tf.config.experimental.list_physical_devices()"
   ]
  }
 ],
 "metadata": {
  "kernelspec": {
   "display_name": "Python 3 (ipykernel)",
   "language": "python",
   "name": "python3"
  },
  "language_info": {
   "codemirror_mode": {
    "name": "ipython",
    "version": 3
   },
   "file_extension": ".py",
   "mimetype": "text/x-python",
   "name": "python",
   "nbconvert_exporter": "python",
   "pygments_lexer": "ipython3",
   "version": "3.9.12"
  }
 },
 "nbformat": 4,
 "nbformat_minor": 5
}
